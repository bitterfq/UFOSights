{
 "cells": [
  {
   "cell_type": "code",
   "execution_count": 24,
   "metadata": {},
   "outputs": [],
   "source": [
    "import pandas as pd"
   ]
  },
  {
   "cell_type": "code",
   "execution_count": 25,
   "metadata": {},
   "outputs": [],
   "source": [
    "df = pd.read_csv('nuforc_data.csv')"
   ]
  },
  {
   "cell_type": "code",
   "execution_count": 27,
   "metadata": {},
   "outputs": [
    {
     "data": {
      "text/plain": [
       "State\n",
       "WA       8\n",
       "CA       8\n",
       "CO       4\n",
       "AZ       4\n",
       "MN       4\n",
       "NM       4\n",
       "NC       4\n",
       "NY       3\n",
       "IL       3\n",
       "OH       3\n",
       "OK       3\n",
       "FL       2\n",
       "MI       2\n",
       "MO       2\n",
       "ON       2\n",
       "MD       2\n",
       "PA       2\n",
       "VA       2\n",
       "OR       2\n",
       "QC       2\n",
       "TX       2\n",
       "KY       2\n",
       "KS       1\n",
       "TN       1\n",
       "GA       1\n",
       "WI       1\n",
       "PR       1\n",
       "MS       1\n",
       "NJ       1\n",
       "HI       1\n",
       "AL       1\n",
       "MA       1\n",
       "State    1\n",
       "Name: count, dtype: int64"
      ]
     },
     "execution_count": 27,
     "metadata": {},
     "output_type": "execute_result"
    }
   ],
   "source": [
    "sdf[\"State\"].value_counts()"
   ]
  }
 ],
 "metadata": {
  "kernelspec": {
   "display_name": "Python 3",
   "language": "python",
   "name": "python3"
  },
  "language_info": {
   "codemirror_mode": {
    "name": "ipython",
    "version": 3
   },
   "file_extension": ".py",
   "mimetype": "text/x-python",
   "name": "python",
   "nbconvert_exporter": "python",
   "pygments_lexer": "ipython3",
   "version": "3.11.3"
  }
 },
 "nbformat": 4,
 "nbformat_minor": 2
}
